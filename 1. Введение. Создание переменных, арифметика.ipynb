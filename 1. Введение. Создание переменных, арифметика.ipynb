{
 "cells": [
  {
   "cell_type": "markdown",
   "metadata": {},
   "source": [
    "<sup> Информатика, 7 химический класс, 2017 год. Python - 1 </sup>"
   ]
  },
  {
   "cell_type": "markdown",
   "metadata": {},
   "source": [
    "## 1. Переменные и арифметика\n",
    "*Переменная* - это область памяти фиксированного размера, имеющая имя.\n",
    "\n",
    "Переменные в языке Python бывают нескольких *базовых типов* (built-in types).\n",
    "Вот некоторые из них:\n"
   ]
  },
  {
   "cell_type": "code",
   "execution_count": 1,
   "metadata": {
    "collapsed": true
   },
   "outputs": [],
   "source": [
    "# (Кстати, с помощью диеза (хештега) можно записывать комментарии. Они будут пропущены при исполнении программы).\n",
    "a = None # Тут ничего не лежит\n",
    "\n",
    "# \"истина\" и \"ложь\"\n",
    "b = True \n",
    "c = False\n",
    "\n",
    "# Целочисленный тип (integer, int) подходит для хранения целых чисел.\n",
    "d = 1303\n",
    "e = -1303\n",
    "\n",
    "# Тип с плавающей точкой (float) подходит для хранения дробных чисел.\n",
    "f = 1.224\n",
    "\n",
    "# Строковый тип (string) подходит для хранения последовательностей символов.\n",
    "s = \"Moscow Chemical Lyceum\"\n",
    "s_rus = \"Московский химический лицей\""
   ]
  },
  {
   "cell_type": "markdown",
   "metadata": {},
   "source": [
    "Переменные можно *распечатать*, то есть вывести на экран."
   ]
  },
  {
   "cell_type": "code",
   "execution_count": 3,
   "metadata": {
    "collapsed": false
   },
   "outputs": [
    {
     "name": "stdout",
     "output_type": "stream",
     "text": [
      "None\n",
      "True False\n",
      "1303 -1303 1.224 Moscow Chemical Lyceum Московский химический лицей\n"
     ]
    }
   ],
   "source": [
    "print(a)\n",
    "print(b, c)\n",
    "print(d, e, f, s, s_rus)"
   ]
  },
  {
   "cell_type": "markdown",
   "metadata": {},
   "source": [
    "Значение строковой переменной можно *считать с клавиатуры*"
   ]
  },
  {
   "cell_type": "code",
   "execution_count": 4,
   "metadata": {
    "collapsed": false
   },
   "outputs": [
    {
     "name": "stdout",
     "output_type": "stream",
     "text": [
      "Привет!\n",
      "Привет!\n"
     ]
    }
   ],
   "source": [
    "g = input()\n",
    "print(g)"
   ]
  },
  {
   "cell_type": "markdown",
   "metadata": {},
   "source": [
    "Переменные можно *приводить* от одних типов к другим."
   ]
  },
  {
   "cell_type": "code",
   "execution_count": 12,
   "metadata": {
    "collapsed": false
   },
   "outputs": [
    {
     "name": "stdout",
     "output_type": "stream",
     "text": [
      "<class 'str'>\n",
      "<class 'int'>\n",
      "<class 'float'>\n"
     ]
    }
   ],
   "source": [
    "h = \"10\"\n",
    "print(type(h))\n",
    "i = int(h)\n",
    "print(type(i))\n",
    "print(type(float(i)))"
   ]
  },
  {
   "cell_type": "markdown",
   "metadata": {},
   "source": [
    "Над *числовыми типами* (int и float) (НЕ СТРОКАМИ!) можно осуществлять обычные арифметические операции."
   ]
  },
  {
   "cell_type": "code",
   "execution_count": 13,
   "metadata": {
    "collapsed": false
   },
   "outputs": [
    {
     "name": "stdout",
     "output_type": "stream",
     "text": [
      "121\n",
      "14.0\n",
      "700.0\n",
      "2100\n",
      "4.761904761904762\n",
      "4\n",
      "16\n",
      "1000000000000000000000000000000000000000000\n"
     ]
    }
   ],
   "source": [
    "x = 100\n",
    "y = 21\n",
    "z = 7.0\n",
    "t = -8\n",
    "print(x + y)\n",
    "print(y - z)\n",
    "print(x * z)\n",
    "print(x * y)\n",
    "print(x / y)\n",
    "print(x // y) # деление нацело\n",
    "print(x % y) #остаток от деления\n",
    "print(x ** y) #возведение в степень\n",
    "print(abs(t)) #модуль числа (расстояние на прямой до 0)\n",
    "print(x ** 0.5) #квадратный корень"
   ]
  },
  {
   "cell_type": "markdown",
   "metadata": {},
   "source": [
    "Обратите внимание, что если складывать строки со строками, они склеиваются. Это называется *конкатенация*."
   ]
  },
  {
   "cell_type": "code",
   "execution_count": 14,
   "metadata": {
    "collapsed": false
   },
   "outputs": [
    {
     "name": "stdout",
     "output_type": "stream",
     "text": [
      "I like apples.\n"
     ]
    }
   ],
   "source": [
    "s1 = \"I like\"\n",
    "s2 = \" apples.\"\n",
    "print(s1 + s2)"
   ]
  },
  {
   "cell_type": "markdown",
   "metadata": {},
   "source": [
    "Популярная ошибка: input() всегда возвращает строку, а не число."
   ]
  },
  {
   "cell_type": "code",
   "execution_count": 16,
   "metadata": {
    "collapsed": false
   },
   "outputs": [
    {
     "name": "stdout",
     "output_type": "stream",
     "text": [
      "20\n",
      "30\n",
      "2030\n"
     ]
    }
   ],
   "source": [
    "a = input()\n",
    "b = input()\n",
    "print(a + b)"
   ]
  },
  {
   "cell_type": "code",
   "execution_count": 18,
   "metadata": {
    "collapsed": false
   },
   "outputs": [
    {
     "name": "stdout",
     "output_type": "stream",
     "text": [
      "10\n",
      "10\n",
      "11\n",
      "101\n"
     ]
    }
   ],
   "source": [
    "a = int(input())\n",
    "b = input()\n",
    "print(a + 1)\n",
    "print(b + \"1\")"
   ]
  },
  {
   "cell_type": "markdown",
   "metadata": {},
   "source": [
    "## Задание 1"
   ]
  },
  {
   "cell_type": "markdown",
   "metadata": {},
   "source": [
    "Напишите программу, которая считывает два числа с клавиатуры и выводит их сумму."
   ]
  },
  {
   "cell_type": "code",
   "execution_count": 19,
   "metadata": {
    "collapsed": true
   },
   "outputs": [],
   "source": [
    "# Напишите ваше решение задачи 1 ниже\n"
   ]
  },
  {
   "cell_type": "markdown",
   "metadata": {},
   "source": [
    "## Задание 2\n",
    "Напишите программу, которая выводит гипотенузу треугольника с заданными катетами."
   ]
  },
  {
   "cell_type": "code",
   "execution_count": 20,
   "metadata": {
    "collapsed": true
   },
   "outputs": [],
   "source": [
    "# Напишите ваше решение задачи 2 ниже\n"
   ]
  },
  {
   "cell_type": "markdown",
   "metadata": {},
   "source": [
    "## Задание 3\n",
    "Напишите программу, которая выводит последнюю цифру данного натурального числа."
   ]
  },
  {
   "cell_type": "code",
   "execution_count": 21,
   "metadata": {
    "collapsed": true
   },
   "outputs": [],
   "source": [
    "# Напишите ваше решение задачи 3 ниже\n"
   ]
  },
  {
   "cell_type": "markdown",
   "metadata": {},
   "source": [
    "## Задание 4\n",
    "Напишите программу, которая выводит следующее чётное число после данного."
   ]
  },
  {
   "cell_type": "code",
   "execution_count": 22,
   "metadata": {
    "collapsed": true
   },
   "outputs": [],
   "source": [
    "# Напишите ваше решение задачи 4 ниже\n"
   ]
  },
  {
   "cell_type": "markdown",
   "metadata": {},
   "source": [
    "## Задание 5\n",
    "Даны значения двух моментов времени, принадлежащих одним и тем же суткам: часы, минуты и секунды для каждого из моментов времени. Известно, что второй момент времени наступил не раньше первого. Определите, сколько секунд прошло между двумя моментами времени.\n",
    "\n"
   ]
  },
  {
   "cell_type": "code",
   "execution_count": 23,
   "metadata": {
    "collapsed": true
   },
   "outputs": [],
   "source": [
    "# Напишите ваше решение задачи 5 ниже\n"
   ]
  },
  {
   "cell_type": "markdown",
   "metadata": {},
   "source": [
    "## Задание 6*\n",
    "Напишите программу, которая считывает два числа и выводит их максимум. Можно пользоваться только арифметическими операциями и функцией abs(), которая возвращает абсолютное значение числа."
   ]
  },
  {
   "cell_type": "code",
   "execution_count": 24,
   "metadata": {
    "collapsed": true
   },
   "outputs": [],
   "source": [
    "# Напишите ваше решение задачи 6 ниже\n"
   ]
  }
 ],
 "metadata": {
  "kernelspec": {
   "display_name": "Python 3",
   "language": "python",
   "name": "python3"
  },
  "language_info": {
   "codemirror_mode": {
    "name": "ipython",
    "version": 3
   },
   "file_extension": ".py",
   "mimetype": "text/x-python",
   "name": "python",
   "nbconvert_exporter": "python",
   "pygments_lexer": "ipython3",
   "version": "3.6.0"
  }
 },
 "nbformat": 4,
 "nbformat_minor": 2
}
