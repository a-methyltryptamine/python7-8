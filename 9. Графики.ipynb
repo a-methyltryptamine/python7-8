{
 "cells": [
  {
   "cell_type": "markdown",
   "metadata": {},
   "source": [
    "<sup> Информатика, 7 химический класс, 2017 год. Python - 9 </sup>\n",
    "   # 9. Простейшие графики функций (MatPlotLib.PyPlot)\n",
    "\n"
   ]
  },
  {
   "cell_type": "markdown",
   "metadata": {},
   "source": [
    "С помощью библиотеки (библиотека -- это, просто говоря, большой набор функций определенной тематики) *matplotlib* можно просто рисовать графики разной сложности.\n",
    "Мы начнём с самых простых."
   ]
  },
  {
   "cell_type": "code",
   "execution_count": null,
   "metadata": {
    "collapsed": false
   },
   "outputs": [],
   "source": [
    "!pip install matplotlib  # эту команду надо будет запустить только один раз --\n",
    "                         # она проверяет, что у вас установлена нужная библиотека, и устанавливает её, если её нет.\n",
    "import matplotlib.pyplot as plt  # подключаем библиотеку\n",
    "% matplotlib inline # эта команда позволяет отрисовывать графики сразу в ноутбуке, а не в отдельном окне."
   ]
  },
  {
   "cell_type": "code",
   "execution_count": 4,
   "metadata": {
    "collapsed": false
   },
   "outputs": [
    {
     "data": {
      "image/png": "[encoded data removed]",
      "text/plain": [
       "<matplotlib.figure.Figure at 0x7fee1fd8d898>"
      ]
     },
     "metadata": {},
     "output_type": "display_data"
    }
   ],
   "source": [
    "x = [1, 2, 3, 4]  # список х-координат точек\n",
    "y = [2, 7, 4, 6]  # список у-координат точек\n",
    "plt.plot(x, y, color=\"green\")  # рисуем зелёные отрезки, которые по порядку соединяют заданные точки\n",
    "plt.scatter(x, y, color=\"red\") # рисуем красные точки в заданных координатах\n",
    "plt.show() # показываем график"
   ]
  },
  {
   "cell_type": "markdown",
   "metadata": {},
   "source": [
    "Общая идея построения графика произвольной функции (о которой мы ничего не знаем) такая. Пусть мы строим эту функцию на отрезке от числа $a$ до числа $b$. Создадим массив из большого количества точек, равномерно разбросанных на этом отрезке. После этого вычислим значения нашей функции в каждой точке. Передадим полученные два списка в функцию отрисовки plot. Так как наши точки расположены густо, получается непрерывная кривая.\n",
    "\n",
    "*Замечание*: на самом деле такой способ подходит только для так называемых *непрерывных* функций (их определение мы давать сейчас не будем), но почти все функции, которые вам может понадобиться рисовать в школе, такие.\n",
    "\n",
    "Реализуем нашу идею. Построим для примера график функции $y = 0.00001 x^5 - 0.0001 x^4 + 1$ на отрезке от -100 до 100."
   ]
  },
  {
   "cell_type": "code",
   "execution_count": 16,
   "metadata": {
    "collapsed": false
   },
   "outputs": [
    {
     "data": {
      "image/png": "[encoded data removed]",
      "text/plain": [
       "<matplotlib.figure.Figure at 0x7fee1c471f28>"
      ]
     },
     "metadata": {},
     "output_type": "display_data"
    }
   ],
   "source": [
    "def f(x): # здесь реализуем подсчёт нашей функции\n",
    "    return 0.00001 * x ** 5 - 0.0001 * x ** 4 + 1\n",
    "x = []\n",
    "y = []\n",
    "n = 10000 # количество точек, на которых мы вычислим значение функции\n",
    "x_start = -100 # первая точка отрезка\n",
    "x_end = 100 # последняя точка отрезка\n",
    "step = (x_end - x_start) / n # длина шага, с которым откладываем точки. Выведите эту формулу.\n",
    "for i in range(n):\n",
    "    new_x = x_start + i * step\n",
    "    new_y = f(new_x)\n",
    "    x.append(new_x)\n",
    "    y.append(new_y)\n",
    "plt.plot(x, y, color='indigo') # отрисовка точек, координаты которых мы вычислили\n",
    "plt.show()"
   ]
  },
  {
   "cell_type": "markdown",
   "metadata": {},
   "source": [
    "## Задание 1. Парабола\n",
    "Постройте график функции $y = x^2$, где $x$ принимает значения от -100 до 100."
   ]
  },
  {
   "cell_type": "code",
   "execution_count": null,
   "metadata": {
    "collapsed": true
   },
   "outputs": [],
   "source": [
    "# ваш код"
   ]
  },
  {
   "cell_type": "markdown",
   "metadata": {},
   "source": [
    "## Задание 2. Сдвинутая парабола\n",
    "Постройте график функции $y = ax^2 + bx + c$, где числа $a$, $b$ и $c$ вводятся с клавиатуры. Как меняется график по сравнению с предыдущим заданием? Как вы думаете, за что отвечают числа $a, b, c$?"
   ]
  },
  {
   "cell_type": "code",
   "execution_count": null,
   "metadata": {
    "collapsed": true
   },
   "outputs": [],
   "source": [
    "# ваш код"
   ]
  },
  {
   "cell_type": "markdown",
   "metadata": {},
   "source": [
    "## Задание 3. Корень\n",
    "Постройте график функции $y = \\sqrt x$, где $x$ принимает значения от 0 до 100. Как можно воспользоваться графиком из п.1 (или аналогичным)?"
   ]
  },
  {
   "cell_type": "code",
   "execution_count": null,
   "metadata": {
    "collapsed": true
   },
   "outputs": [],
   "source": [
    "# ваш код"
   ]
  },
  {
   "cell_type": "markdown",
   "metadata": {},
   "source": [
    "## Задание 4. Распределение простых чисел\n",
    "Постройте график, состоящий из таких элементов:\n",
    "1. Линиями прочерчены графики $y = x$, $y = \\sqrt{x}$.\n",
    "2. Линией другого цвета для каждого $x$ по оси $y$ отмечено количество простых чисел, меньших $x$."
   ]
  },
  {
   "cell_type": "code",
   "execution_count": null,
   "metadata": {
    "collapsed": true
   },
   "outputs": [],
   "source": [
    "# ваш код"
   ]
  },
  {
   "cell_type": "markdown",
   "metadata": {},
   "source": [
    "## Задание 5. Спираль\n",
    "Постройте график, на котором изображена квадратная спираль. С клавиатуры задаётся количество витков спирали (например, у спирали на картинке 3 витка).\n",
    "\n",
    "<img width=200 height=200 src=\"http://allriddles.ru/pictures/riddles/matches/016.png\">"
   ]
  },
  {
   "cell_type": "code",
   "execution_count": null,
   "metadata": {
    "collapsed": true
   },
   "outputs": [],
   "source": [
    "# ваш код"
   ]
  }
 ],
 "metadata": {
  "kernelspec": {
   "display_name": "Python 3",
   "language": "python",
   "name": "python3"
  },
  "language_info": {
   "codemirror_mode": {
    "name": "ipython",
    "version": 3
   },
   "file_extension": ".py",
   "mimetype": "text/x-python",
   "name": "python",
   "nbconvert_exporter": "python",
   "pygments_lexer": "ipython3",
   "version": "3.6.0"
  }
 },
 "nbformat": 4,
 "nbformat_minor": 2
}
