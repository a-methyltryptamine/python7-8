{
 "cells": [
  {
   "cell_type": "markdown",
   "metadata": {},
   "source": [
    "<sup> Информатика, 7 химический класс, 2017 год. Python - 3 </sup>"
   ]
  },
  {
   "cell_type": "markdown",
   "metadata": {},
   "source": [
    "# 5. Функции"
   ]
  },
  {
   "cell_type": "markdown",
   "metadata": {},
   "source": [
    "Почти всегда код, который вы написали, удобно оборачивать в отдельные блоки, которые потом вызываются в программе. Такие блоки называются *функциями*, а разделение кода на функции -- *функциональная декомпозиция*."
   ]
  },
  {
   "cell_type": "markdown",
   "metadata": {},
   "source": [
    "Функции *принимают параметры* и *возвращают значения*. В примере ниже параметры функции *add* -- числа *a* и *b*, а функция *мяукнуть* вызывается без параметров. Возвращаемое значение функции *add* -- значение переменной *c*, у функции *мяукнуть* возвращаемого значения нет. "
   ]
  },
  {
   "cell_type": "code",
   "execution_count": 1,
   "metadata": {
    "collapsed": true
   },
   "outputs": [],
   "source": [
    "def мяукнуть():\n",
    "    print(\"мяу!\")\n",
    "    \n",
    "def add(a, b):\n",
    "    c = a + b\n",
    "    return c"
   ]
  },
  {
   "cell_type": "code",
   "execution_count": 2,
   "metadata": {
    "collapsed": false
   },
   "outputs": [
    {
     "name": "stdout",
     "output_type": "stream",
     "text": [
      "мяу!\n"
     ]
    }
   ],
   "source": [
    "мяукнуть()"
   ]
  },
  {
   "cell_type": "code",
   "execution_count": 3,
   "metadata": {
    "collapsed": false
   },
   "outputs": [
    {
     "data": {
      "text/plain": [
       "10"
      ]
     },
     "execution_count": 3,
     "metadata": {},
     "output_type": "execute_result"
    }
   ],
   "source": [
    "add(3, 7)"
   ]
  },
  {
   "cell_type": "markdown",
   "metadata": {},
   "source": [
    "Разумеется, значения функций можно передавать в другие функции, а функции можно вызывать из других функций. Например, давайте вычислим сумму квадратов двух чисел, используя  только функцию сложения и возведения в квадрат."
   ]
  },
  {
   "cell_type": "code",
   "execution_count": 4,
   "metadata": {
    "collapsed": false
   },
   "outputs": [
    {
     "name": "stdout",
     "output_type": "stream",
     "text": [
      "25\n"
     ]
    }
   ],
   "source": [
    "def square(a):\n",
    "    return a * a\n",
    "\n",
    "def square_sum(a, b):\n",
    "    return add(square(a), square(b))\n",
    "\n",
    "print(square_sum(3, 4))"
   ]
  },
  {
   "cell_type": "markdown",
   "metadata": {},
   "source": [
    "Комментарий к задачам: обратите внимание, что все функции должны *возвращать* ответ, а не печатать его, если явно не указано иное (как в задаче 2)."
   ]
  },
  {
   "cell_type": "markdown",
   "metadata": {},
   "source": [
    "# Задание 1\n",
    "Реализуйте функцию *power(x, n)* для возведения числа *x* в степень *n*. Оператором \"две звёздочки\" пользоваться запрещено."
   ]
  },
  {
   "cell_type": "code",
   "execution_count": null,
   "metadata": {
    "collapsed": true
   },
   "outputs": [],
   "source": [
    "# ваш код"
   ]
  },
  {
   "cell_type": "markdown",
   "metadata": {},
   "source": [
    "# Задание 2\n",
    "Реализуйте функцию *print_triange(n)*. Функция печатает прямоугольный треугольник из звёздочек, лежащий на боку. Например, если *n*=3, то функция должна вывести такой треугольник:"
   ]
  },
  {
   "cell_type": "code",
   "execution_count": null,
   "metadata": {
    "collapsed": true
   },
   "outputs": [],
   "source": [
    "*\n",
    "**\n",
    "***"
   ]
  },
  {
   "cell_type": "code",
   "execution_count": null,
   "metadata": {
    "collapsed": true
   },
   "outputs": [],
   "source": [
    "# ваш код"
   ]
  },
  {
   "cell_type": "markdown",
   "metadata": {},
   "source": [
    "# Задание 3\n",
    "Реализуйте функцию *mode(ar)*, которая находит самое часто встречающееся число в массиве. Все числа в данном массиве больше 1 и меньше 100. "
   ]
  },
  {
   "cell_type": "code",
   "execution_count": null,
   "metadata": {
    "collapsed": true
   },
   "outputs": [],
   "source": [
    "# ваш код"
   ]
  },
  {
   "cell_type": "markdown",
   "metadata": {},
   "source": [
    "# Задание 4\n",
    "Напишите тесты к первым трём задачам (и к пятой, если справились к ней). Тесты представляют из себя несколько наборов входных данных, и несколько условных операторов (if), нужных, чтобы проверить ответ. Ниже написан пример трёх тестов для первой задачи. Напишите не менее трёх тестов к каждой задаче. Кратко поясните словами, чем они отличаются друг от друга."
   ]
  },
  {
   "cell_type": "code",
   "execution_count": null,
   "metadata": {
    "collapsed": true
   },
   "outputs": [],
   "source": [
    "# first task test\n",
    "ans1 = power(7, 2)\n",
    "ans2 = power(10, 5)\n",
    "ans3 = power(1, 10)\n",
    "if(ans1 == 49 and ans2 == 100000 and ans3 == 1):\n",
    "    print(\"All tests passed\")\n",
    "else:\n",
    "    print(\"Some of the tests doesn't work\")\n",
    "    "
   ]
  },
  {
   "cell_type": "code",
   "execution_count": null,
   "metadata": {
    "collapsed": true
   },
   "outputs": [],
   "source": [
    "# ваш код"
   ]
  },
  {
   "cell_type": "markdown",
   "metadata": {},
   "source": [
    "# Задание 5(*)\n",
    "\n",
    "*Ханойские башни*. Прочитайте статью https://ru.wikipedia.org/wiki/Ханойская_башня. Реализуйте функцию, которая принимает как параметр количество дисков на первом штыре и выводит последовательность операций, нужных, чтобы перенести все диски на третий штырь."
   ]
  },
  {
   "cell_type": "code",
   "execution_count": null,
   "metadata": {
    "collapsed": true
   },
   "outputs": [],
   "source": [
    "# ваш код"
   ]
  }
 ],
 "metadata": {
  "kernelspec": {
   "display_name": "Python 3",
   "language": "python",
   "name": "python3"
  },
  "language_info": {
   "codemirror_mode": {
    "name": "ipython",
    "version": 3
   },
   "file_extension": ".py",
   "mimetype": "text/x-python",
   "name": "python",
   "nbconvert_exporter": "python",
   "pygments_lexer": "ipython3",
   "version": "3.6.0"
  }
 },
 "nbformat": 4,
 "nbformat_minor": 2
}
