{
 "cells": [
  {
   "cell_type": "markdown",
   "metadata": {},
   "source": [
    "<sup> Информатика, 7 химический класс, 2017 год. Python - 1 </sup>"
   ]
  },
  {
   "cell_type": "markdown",
   "metadata": {},
   "source": [
    "## 1.9999999. Операторы сравнения\n",
    "\n",
    "В Python можно сравнивать значения переменных между собой. Для этого есть такие операторы: ==, <, >, >=, <=, !=. Конструкция (переменная) (оператор сравнения) (переменная) возвращает значение булевского типа."
   ]
  },
  {
   "cell_type": "code",
   "execution_count": 1,
   "metadata": {
    "collapsed": false
   },
   "outputs": [
    {
     "name": "stdout",
     "output_type": "stream",
     "text": [
      "False\n",
      "False\n",
      "True\n",
      "False\n",
      "True\n",
      "False\n",
      "True\n"
     ]
    }
   ],
   "source": [
    "a = 10\n",
    "b = 10\n",
    "c = 15\n",
    "print(a > b)\n",
    "print(a < b)\n",
    "print(a < c)\n",
    "print(a > c)\n",
    "print(a == b)\n",
    "print(a == c)\n",
    "print(a != c)"
   ]
  },
  {
   "cell_type": "markdown",
   "metadata": {},
   "source": [
    "Важно не путать сравнение (==) и присваивание (=)."
   ]
  },
  {
   "cell_type": "code",
   "execution_count": 16,
   "metadata": {
    "collapsed": false
   },
   "outputs": [
    {
     "name": "stdout",
     "output_type": "stream",
     "text": [
      "False\n"
     ]
    },
    {
     "ename": "TypeError",
     "evalue": "'x' is an invalid keyword argument for this function",
     "output_type": "error",
     "traceback": [
      "\u001b[0;31m---------------------------------------------------------------------------\u001b[0m",
      "\u001b[0;31mTypeError\u001b[0m                                 Traceback (most recent call last)",
      "\u001b[0;32m<ipython-input-16-b5ad0c547be0>\u001b[0m in \u001b[0;36m<module>\u001b[0;34m()\u001b[0m\n\u001b[1;32m      2\u001b[0m \u001b[0my\u001b[0m \u001b[0;34m=\u001b[0m \u001b[0;36m15\u001b[0m\u001b[0;34m\u001b[0m\u001b[0m\n\u001b[1;32m      3\u001b[0m \u001b[0mprint\u001b[0m\u001b[0;34m(\u001b[0m\u001b[0mx\u001b[0m \u001b[0;34m==\u001b[0m \u001b[0my\u001b[0m\u001b[0;34m)\u001b[0m\u001b[0;34m\u001b[0m\u001b[0m\n\u001b[0;32m----> 4\u001b[0;31m \u001b[0mprint\u001b[0m\u001b[0;34m(\u001b[0m\u001b[0mx\u001b[0m \u001b[0;34m=\u001b[0m \u001b[0my\u001b[0m\u001b[0;34m)\u001b[0m\u001b[0;34m\u001b[0m\u001b[0m\n\u001b[0m",
      "\u001b[0;31mTypeError\u001b[0m: 'x' is an invalid keyword argument for this function"
     ]
    }
   ],
   "source": [
    "x = 10\n",
    "y = 15\n",
    "print(x == y)\n",
    "print(x = y)"
   ]
  },
  {
   "cell_type": "markdown",
   "metadata": {},
   "source": [
    "## 2. Условия\n",
    "\n",
    "Программы, которые мы писали в прошлый раз, были линейными. Это значит, что они просто проводили вычисления, не зависящие от того, какие именно данные были введены. \n",
    "Конечно, програмы в реальной жизни гораздо сложнее. Первое усложнение, которое можно ввести -- условия. Рассмотрим простейшую программу с условием. Она выводит \"Это ноль\", если а равно нулю, и \"Это не ноль\" иначе."
   ]
  },
  {
   "cell_type": "code",
   "execution_count": 6,
   "metadata": {
    "collapsed": false
   },
   "outputs": [
    {
     "name": "stdout",
     "output_type": "stream",
     "text": [
      "1\n",
      "Это не ноль\n"
     ]
    }
   ],
   "source": [
    "a = int(input())\n",
    "if a == 0:\n",
    "    print(\"Это ноль\")\n",
    "else:\n",
    "    print(\"Это не ноль\")"
   ]
  },
  {
   "cell_type": "markdown",
   "metadata": {},
   "source": [
    "Можно делать выбор из нескольких альтернатив."
   ]
  },
  {
   "cell_type": "code",
   "execution_count": 9,
   "metadata": {
    "collapsed": false
   },
   "outputs": [
    {
     "name": "stdout",
     "output_type": "stream",
     "text": [
      "0\n",
      "Ноль\n"
     ]
    }
   ],
   "source": [
    "b = int(input())\n",
    "if b > 0:\n",
    "    print(\"Положительное\")\n",
    "elif b < 0:\n",
    "    print(\"Отрицательное\")\n",
    "else:\n",
    "    print(\"Ноль\")"
   ]
  },
  {
   "cell_type": "markdown",
   "metadata": {},
   "source": [
    "Циклы можно вкладывать друг в друга. Обратите внимание на отступы: это важно!"
   ]
  },
  {
   "cell_type": "code",
   "execution_count": 12,
   "metadata": {
    "collapsed": false,
    "scrolled": true
   },
   "outputs": [
    {
     "name": "stdout",
     "output_type": "stream",
     "text": [
      "0\n",
      "1\n",
      "Первое число равно нулю\n"
     ]
    }
   ],
   "source": [
    "c = int(input())\n",
    "d = int(input())\n",
    "if c == 0:\n",
    "    if d == 0:\n",
    "        print(\"Оба нули\")\n",
    "    else:\n",
    "        print(\"Первое число равно нулю\")\n",
    "else:\n",
    "    print(\"Первое число не равно нулю, а про второе ничего не известно\")"
   ]
  },
  {
   "cell_type": "markdown",
   "metadata": {},
   "source": [
    "## 3. Логические операции\n",
    "Python поддерживает такие операции: and (И), or (ИЛИ), not (НЕ). С их помощью можно писать сложные условия."
   ]
  },
  {
   "cell_type": "code",
   "execution_count": 13,
   "metadata": {
    "collapsed": false
   },
   "outputs": [
    {
     "name": "stdout",
     "output_type": "stream",
     "text": [
      "0.01\n",
      "f ближе к нулю, чем eps\n"
     ]
    }
   ],
   "source": [
    "f = float(input())\n",
    "eps = 0.3\n",
    "if f < eps and f > -eps:\n",
    "    print(\"f ближе к нулю, чем eps\")\n",
    "else:\n",
    "    print(\"f дальше от нуля, чем eps\")"
   ]
  },
  {
   "cell_type": "markdown",
   "metadata": {},
   "source": [
    "## Задание 1\n",
    "Вводятся три целых числа. Вывести их максимум, используя условный оператор.\n"
   ]
  },
  {
   "cell_type": "code",
   "execution_count": null,
   "metadata": {
    "collapsed": true
   },
   "outputs": [],
   "source": [
    "# ваш код"
   ]
  },
  {
   "cell_type": "markdown",
   "metadata": {},
   "source": [
    "## Задание 2\n",
    "Вводятся два числа -- координаты точки на плоскости. Выведите, в какой координатной четверти находится эта точка."
   ]
  },
  {
   "cell_type": "code",
   "execution_count": null,
   "metadata": {
    "collapsed": true
   },
   "outputs": [],
   "source": [
    "# ваш код"
   ]
  },
  {
   "cell_type": "markdown",
   "metadata": {},
   "source": [
    "## Задание 3\n",
    "Реализуйте то, что делает abs(). Вашей программе подаётся на вход число, выведите его модуль (абсолютное значение)."
   ]
  },
  {
   "cell_type": "code",
   "execution_count": null,
   "metadata": {
    "collapsed": true
   },
   "outputs": [],
   "source": [
    "# ваш код"
   ]
  },
  {
   "cell_type": "markdown",
   "metadata": {},
   "source": [
    "## Задание 4\n",
    "Программе подаются на вход два логических значения, каждое равно 0 или 1. Программа выводит их исключающее ИЛИ (XOR).\n",
    "Решите задачу двумя способами: с помощью оператора if, и не пользуясь им. "
   ]
  },
  {
   "cell_type": "code",
   "execution_count": null,
   "metadata": {
    "collapsed": true
   },
   "outputs": [],
   "source": [
    "# ваш код"
   ]
  },
  {
   "cell_type": "markdown",
   "metadata": {},
   "source": [
    "## Задание 5"
   ]
  },
  {
   "cell_type": "markdown",
   "metadata": {},
   "source": [
    "На вход подаются координаты двух камней на доске для го. Выведите \"да\", если эта позиция является косуми (http://wmsg.ru/2016/04/15/kosumi/)."
   ]
  },
  {
   "cell_type": "code",
   "execution_count": null,
   "metadata": {
    "collapsed": true
   },
   "outputs": [],
   "source": [
    "# ваш код"
   ]
  },
  {
   "cell_type": "markdown",
   "metadata": {},
   "source": [
    "## Задание 6*\n",
    "Дано уравнение $\\frac{ax + b}{cx + d} = 0$. Известно, что $c$ и $d$ не равны нулю одновременно (это значит, что если одно из них ноль, то другое точно не ноль). Если решений нет, вывести \"Решений нет\", если решений бесконечно много, вывести \"Бесконечно много решений\". Иначе вывести все решения уравнения. На вход подаются $a, b, c, d$."
   ]
  },
  {
   "cell_type": "code",
   "execution_count": null,
   "metadata": {
    "collapsed": true
   },
   "outputs": [],
   "source": [
    "# ваш код"
   ]
  },
  {
   "cell_type": "markdown",
   "metadata": {},
   "source": [
    "## Задание 7*\n",
    "Есть два копировальных аппарата. Один копирует лист бумаги со скоростью $a$ секунд на лист, другой -- со скоростью $b$ секунд на лист. На вход программе подаются $a$, $b$, $N$. Требуется вывести минимальное время, за которое можно скопировать из одного листа с задачами $N$ таких же листов. Понятно, что копировальные аппараты могут работать одновременно, но для этого первый лист нужно сперва скопировать и положить во второй аппарат."
   ]
  },
  {
   "cell_type": "code",
   "execution_count": null,
   "metadata": {
    "collapsed": true
   },
   "outputs": [],
   "source": [
    "# ваш код"
   ]
  }
 ],
 "metadata": {
  "kernelspec": {
   "display_name": "Python 3",
   "language": "python",
   "name": "python3"
  },
  "language_info": {
   "codemirror_mode": {
    "name": "ipython",
    "version": 3
   },
   "file_extension": ".py",
   "mimetype": "text/x-python",
   "name": "python",
   "nbconvert_exporter": "python",
   "pygments_lexer": "ipython3",
   "version": "3.6.0"
  }
 },
 "nbformat": 4,
 "nbformat_minor": 2
}
