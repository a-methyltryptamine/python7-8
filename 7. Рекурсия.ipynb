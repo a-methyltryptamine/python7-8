{
 "cells": [
  {
   "cell_type": "markdown",
   "metadata": {},
   "source": [
    "<sup> Информатика, 7 химический класс, 2017 год. Python - 7 </sup>\n",
    "# 7. Рекурсия\n",
    "\n",
    "Функции ничего не мешает вызывать себя же в процессе работы. Это полезная техника, называемая *рекурсия*.\n",
    "\n",
    "Для примера рассмотрим функцию, которая вычисляет факториал, не используя циклы.\n",
    "\n",
    "Факториал числа -- это произведение чисел от 1 до этого числа. Перепишем выражение для факториала:\n",
    "\n",
    "    n! = n * (n - 1) * (n - 2) * ... * 2 * 1 = n * (n - 1)!\n",
    "    \n",
    "У нас получилось, что факториал числа как-то зависит от факториала меньшего числа. Таким образом мы сформулировали задачу рекурсивно. Теперь напишем код."
   ]
  },
  {
   "cell_type": "code",
   "execution_count": 2,
   "metadata": {
    "collapsed": true
   },
   "outputs": [],
   "source": [
    "def factorial(n):\n",
    "    if n == 0 or n == 1:\n",
    "        return 1\n",
    "    else:\n",
    "        return n * factorial(n - 1)"
   ]
  },
  {
   "cell_type": "code",
   "execution_count": 4,
   "metadata": {
    "collapsed": false
   },
   "outputs": [
    {
     "name": "stdout",
     "output_type": "stream",
     "text": [
      "120\n",
      "1\n"
     ]
    }
   ],
   "source": [
    "print(factorial(5))\n",
    "print(factorial(0))"
   ]
  },
  {
   "cell_type": "markdown",
   "metadata": {},
   "source": [
    "Обратите внимание, что в этой функции есть наименьшее значение, при котором функция умеет вычислять факториал -- это 0. \n",
    "Выход из рекурсии -- это очень важно, если забыть написать условие выхода, то компьютеру это точно не понравится -- он зависнет, потому что закончится память."
   ]
  },
  {
   "cell_type": "markdown",
   "metadata": {},
   "source": [
    "*Во всех задачах ниже запрещено использовать циклы*"
   ]
  },
  {
   "cell_type": "markdown",
   "metadata": {},
   "source": [
    "## Задание 1. Сумма цифр\n",
    "\n",
    "Напишите функцию, которая вычисляет сумму цифр числа, которое передаётся в качестве аргумента."
   ]
  },
  {
   "cell_type": "code",
   "execution_count": null,
   "metadata": {
    "collapsed": true
   },
   "outputs": [],
   "source": [
    "# ваш код"
   ]
  },
  {
   "cell_type": "markdown",
   "metadata": {},
   "source": [
    "## Задание 2. Простая игра\n",
    "\n",
    "Определите, можно ли получить число, переданное функции в качестве аргумента, с помощью операций \"прибавить 3\" и \"умножить на 5\" из числа 1."
   ]
  },
  {
   "cell_type": "code",
   "execution_count": null,
   "metadata": {
    "collapsed": true
   },
   "outputs": [],
   "source": [
    "# ваш код"
   ]
  },
  {
   "cell_type": "markdown",
   "metadata": {},
   "source": [
    "## Задание 3. Алгоритм Евклида\n",
    "На вход функции подаются два числа. Верните их наибольший общий делитель. \n",
    "\n"
   ]
  },
  {
   "cell_type": "code",
   "execution_count": null,
   "metadata": {
    "collapsed": true
   },
   "outputs": [],
   "source": [
    "# ваш код"
   ]
  },
  {
   "cell_type": "markdown",
   "metadata": {},
   "source": [
    "## Задание 4. Бинарное возведение в степень\n",
    "На вход функции подаются два числа, $n$ и $k$. Вычислите n ** k. Разумеется, соотвествующим оператором языка пользоваться нельзя. Вычисление должно быть быстрым: на подсчёт числа в тысячной степени должно уходить не более 15 вызовов этой же функции."
   ]
  },
  {
   "cell_type": "code",
   "execution_count": null,
   "metadata": {
    "collapsed": true
   },
   "outputs": [],
   "source": [
    "# ваш код"
   ]
  },
  {
   "cell_type": "markdown",
   "metadata": {},
   "source": [
    "## Задание 5. Палиндром\n",
    "На вход функции подаётся строка. Проверьте, что она является палиндромом, то есть одинаково читается слева направо и справа налево. Например, палиндромом является строка \"abcba\", а строка \"abab\" не является палиндромом."
   ]
  },
  {
   "cell_type": "code",
   "execution_count": null,
   "metadata": {
    "collapsed": true
   },
   "outputs": [],
   "source": [
    "# ваш код"
   ]
  }
 ],
 "metadata": {
  "kernelspec": {
   "display_name": "Python 3",
   "language": "python",
   "name": "python3"
  },
  "language_info": {
   "codemirror_mode": {
    "name": "ipython",
    "version": 3
   },
   "file_extension": ".py",
   "mimetype": "text/x-python",
   "name": "python",
   "nbconvert_exporter": "python",
   "pygments_lexer": "ipython3",
   "version": "3.6.0"
  }
 },
 "nbformat": 4,
 "nbformat_minor": 2
}
